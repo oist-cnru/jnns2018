{
 "cells": [
  {
   "cell_type": "markdown",
   "metadata": {},
   "source": [
    "## Figures\n",
    "\n",
    "This notebook allows to display the training of a run."
   ]
  },
  {
   "cell_type": "code",
   "execution_count": null,
   "metadata": {},
   "outputs": [],
   "source": [
    "import os\n",
    "import math\n",
    "import pickle\n",
    "\n",
    "import yaml\n",
    "import numpy as np\n",
    "\n",
    "import mtrnn\n",
    "from mtrnn import graphs"
   ]
  },
  {
   "cell_type": "code",
   "execution_count": null,
   "metadata": {},
   "outputs": [],
   "source": [
    "colors = [\"#405f80\", \"#851d46\", \"#be2e3A\", \"#e0623d\", \"#ebc54b\", \"grey\"]\n",
    "color_learn, color_fixed = '#ff3d7f', '#3fb8Af'"
   ]
  },
  {
   "cell_type": "markdown",
   "metadata": {},
   "source": [
    "## Loading Computation"
   ]
  },
  {
   "cell_type": "code",
   "execution_count": null,
   "metadata": {},
   "outputs": [],
   "source": [
    "def load_run(cfg_name):\n",
    "    cwd = os.getcwd()\n",
    "    filepath = './exps/{}.yaml'.format(cfg_name)\n",
    "    run = mtrnn.Run.from_configfile(filepath, resume=True, verbose=False)\n",
    "    run.load_logs()\n",
    "    os.chdir(cwd)\n",
    "    return run"
   ]
  },
  {
   "cell_type": "code",
   "execution_count": null,
   "metadata": {},
   "outputs": [],
   "source": [
    "results = {}\n",
    "for name in ['cst8', 'cst100', 'invexp', 'exp']:\n",
    "    run_fixed    = load_run('fixed_{}'.format(name)) if name != 'exp' else None\n",
    "    run_learntau = load_run('learntau_{}'.format(name))\n",
    "    results[name] = (run_fixed, run_learntau)"
   ]
  },
  {
   "cell_type": "markdown",
   "metadata": {},
   "source": [
    "## Plotting Functions"
   ]
  },
  {
   "cell_type": "markdown",
   "metadata": {},
   "source": [
    "### τ Evolution"
   ]
  },
  {
   "cell_type": "code",
   "execution_count": null,
   "metadata": {},
   "outputs": [],
   "source": [
    "def fig_τ_evolution(name):\n",
    "    \"\"\"Figure for showing how τ evolves across epochs\"\"\"\n",
    "    run = results[name][1]\n",
    "    data = {}\n",
    "\n",
    "    max_τ = 0\n",
    "    for frame in run.logs.logs_for('τ'):\n",
    "        layer_index, τ = frame[1]\n",
    "        max_τ = max(max_τ, float(τ))\n",
    "        data.setdefault(layer_index, [])\n",
    "        data[layer_index].append(τ)\n",
    "\n",
    "    figure = graphs.Figure(x_range=None, y_range=[0, max_τ+1], title='{} - τ evolution'.format(name))\n",
    "    for layer_i, τs in data.items():\n",
    "        figure.line(range(len(τs))[::10], τs[::10], color=colors[layer_i], \n",
    "                    alpha=0.5, line_width=2, label=str(layer_i), name='layer {}'.format(layer_i))\n",
    "    figure.show()\n",
    "    #graphs.save_fig(figure.fig, 'tau_{}'.format(exp_name), 'png')"
   ]
  },
  {
   "cell_type": "markdown",
   "metadata": {},
   "source": [
    "### Loss"
   ]
  },
  {
   "cell_type": "code",
   "execution_count": null,
   "metadata": {},
   "outputs": [],
   "source": [
    "def fig_loss(name):\n",
    "    run_fixed, run_learn = results[name]\n",
    "    epochs_learn = [frame[2][0]            for frame in run_learn.logs.logs_for('loss')]\n",
    "    loss_learn   = [float(frame[1]['L_x']) for frame in run_learn.logs.logs_for('loss')]\n",
    "    epochs_fixed = [frame[2][0]            for frame in run_fixed.logs.logs_for('loss')]\n",
    "    loss_fixed   = [float(frame[1]['L_x']) for frame in run_fixed.logs.logs_for('loss')]\n",
    "\n",
    "    title = '{} - loss (MSE from target)'.format(name)\n",
    "    figure = graphs.Figure(x_range=None, y_range=None, title=title)\n",
    "    figure.circle(epochs_learn, loss_learn, color=color_learn, alpha=0.25, size=1.0)\n",
    "    figure.circle(epochs_fixed, loss_fixed, color=color_fixed, alpha=0.25, size=1.0)\n",
    "    figure.show()"
   ]
  },
  {
   "cell_type": "markdown",
   "metadata": {},
   "source": [
    "### Closed-Loop Error"
   ]
  },
  {
   "cell_type": "code",
   "execution_count": null,
   "metadata": {},
   "outputs": [],
   "source": [
    "def fig_closed_loop_error(name):\n",
    "    run_fixed, run_learn = results[name]\n",
    "    epochs_learn = [frame[2][0] for frame in run_learn.logs.logs_for('error_CL_train')]\n",
    "    ecl_learn    = [frame[1]    for frame in run_learn.logs.logs_for('error_CL_train')]\n",
    "    epochs_fixed = [frame[2][0] for frame in run_fixed.logs.logs_for('error_CL_train')]\n",
    "    ecl_fixed    = [frame[1]    for frame in run_fixed.logs.logs_for('error_CL_train')]\n",
    "\n",
    "    figure = graphs.Figure(x_range=None, y_range=[0, 60], title='closed-loop error (MSE)')\n",
    "    figure.circle(epochs_fixed, ecl_fixed, color=color_fixed, alpha=0.25, size=1.0)\n",
    "    figure.circle(epochs_learn, ecl_learn, color=color_learn, alpha=0.25, size=1.0)\n",
    "    figure.show()"
   ]
  },
  {
   "cell_type": "markdown",
   "metadata": {},
   "source": [
    "### Closed and Open Loop Output"
   ]
  },
  {
   "cell_type": "code",
   "execution_count": null,
   "metadata": {},
   "outputs": [],
   "source": [
    "def fig_output(name, sample_index, loop_type='open loop', y_range=(-2, 2)):\n",
    "    run_fixed, run_learn = results[name]\n",
    "    dataset = run_fixed.train_dataset\n",
    "    \n",
    "    x = range(99) # np.arange(0.01, 1, 0.01)\n",
    "    y_target = [e[0].item() for e in dataset.sample(sample_index)[1]]\n",
    "\n",
    "    title = '{} - {}, sample #{}'.format(name, loop_type, sample_index)\n",
    "    fig = graphs.OutputFigure(x_range=None, y_range=y_range, title=title)    \n",
    "    fig.line(x, y_target, name='target', color='grey')\n",
    "\n",
    "    if loop_type == 'open loop':\n",
    "        x = x[1:]\n",
    "        y_fixed = [e[0].item() for e in run_fixed.task.open_loop(dataset.batch([sample_index]))][:-1]\n",
    "        y_learn = [e[0].item() for e in run_learn.task.open_loop(dataset.batch([sample_index]))][:-1]\n",
    "    else:\n",
    "        y_fixed = [e[0].item() for e in run_fixed.task.closed_loop(dataset.batch([sample_index]))]\n",
    "        y_learn = [e[0].item() for e in run_learn.task.closed_loop(dataset.batch([sample_index]))]\n",
    "    fig.line(x, y_fixed, name='fixed', color=color_fixed, line_width=2, alpha=0.50)\n",
    "    fig.line(x, y_learn, name='learn', color=color_learn, line_width=2, alpha=0.50)\n",
    "\n",
    "    fig.show()"
   ]
  },
  {
   "cell_type": "markdown",
   "metadata": {},
   "source": [
    "## Figure 1"
   ]
  },
  {
   "cell_type": "code",
   "execution_count": null,
   "metadata": {},
   "outputs": [],
   "source": [
    "fig_τ_evolution('cst100')\n",
    "fig_output('cst100', 0, loop_type='open loop')\n",
    "fig_output('cst100', 0, loop_type='closed loop')"
   ]
  },
  {
   "cell_type": "markdown",
   "metadata": {},
   "source": [
    "## Figure 2"
   ]
  },
  {
   "cell_type": "code",
   "execution_count": null,
   "metadata": {},
   "outputs": [],
   "source": [
    "fig_τ_evolution('invexp')\n",
    "fig_loss('invexp')\n",
    "fig_output('invexp', 3, loop_type='closed loop', y_range=(-4, 4))"
   ]
  },
  {
   "cell_type": "markdown",
   "metadata": {},
   "source": [
    "## Figure 3"
   ]
  },
  {
   "cell_type": "code",
   "execution_count": null,
   "metadata": {},
   "outputs": [],
   "source": [
    "fig_τ_evolution('exp')\n",
    "fig_τ_evolution('cst8')"
   ]
  },
  {
   "cell_type": "markdown",
   "metadata": {},
   "source": [
    "## Figure 4"
   ]
  },
  {
   "cell_type": "code",
   "execution_count": null,
   "metadata": {},
   "outputs": [],
   "source": [
    "fig_output('cst8', 1, loop_type='open loop')\n",
    "fig_output('cst8', 1, loop_type='closed loop')\n",
    "fig_closed_loop_error('cst8')"
   ]
  },
  {
   "cell_type": "markdown",
   "metadata": {},
   "source": [
    " "
   ]
  }
 ],
 "metadata": {
  "kernelspec": {
   "display_name": "Python 3.6.5 (vbpmtrnn)",
   "language": "python",
   "name": "vbpmtrnn"
  },
  "language_info": {
   "codemirror_mode": {
    "name": "ipython",
    "version": 3
   },
   "file_extension": ".py",
   "mimetype": "text/x-python",
   "name": "python",
   "nbconvert_exporter": "python",
   "pygments_lexer": "ipython3",
   "version": "3.6.5"
  }
 },
 "nbformat": 4,
 "nbformat_minor": 2
}
